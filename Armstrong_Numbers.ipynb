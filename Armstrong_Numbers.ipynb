{
  "nbformat": 4,
  "nbformat_minor": 0,
  "metadata": {
    "colab": {
      "name": "Armstrong Numbers.ipynb",
      "provenance": [],
      "collapsed_sections": [],
      "authorship_tag": "ABX9TyNabXWwHtg/Sq/mMz8LYp7/",
      "include_colab_link": true
    },
    "kernelspec": {
      "name": "python3",
      "display_name": "Python 3"
    },
    "language_info": {
      "name": "python"
    }
  },
  "cells": [
    {
      "cell_type": "markdown",
      "metadata": {
        "id": "view-in-github",
        "colab_type": "text"
      },
      "source": [
        "<a href=\"https://colab.research.google.com/github/D1422-Mustafa/Assignments/blob/main/Armstrong_Numbers.ipynb\" target=\"_parent\"><img src=\"https://colab.research.google.com/assets/colab-badge.svg\" alt=\"Open In Colab\"/></a>"
      ]
    },
    {
      "cell_type": "code",
      "execution_count": null,
      "metadata": {
        "id": "u8_N6n15UTCj"
      },
      "outputs": [],
      "source": [
        ""
      ]
    },
    {
      "cell_type": "markdown",
      "source": [
        "Task:\n",
        "\n",
        "Find out if a given number is an \"Armstrong Number\".\n",
        "\n",
        "\n",
        "\n",
        "Write a Python program that;\n",
        "takes a positive integer number from the user,\n",
        "checks the entered number if it is Armstrong,\n",
        "consider the negative, float and any entries other than numeric values then display a warning message to the user."
      ],
      "metadata": {
        "id": "FhEu1bE9UcBd"
      }
    },
    {
      "cell_type": "code",
      "source": [
        "while True :\n",
        "  number = input(\"enter a positive integer number :\")\n",
        "  digits = len(number)\n",
        "  summ = 0\n",
        "\n",
        "  if not number.isdigit():\n",
        "    print(number, \"is invalid entry. Enter valid input.\")\n",
        "  elif int(number) >= 0 :\n",
        "    for i in range(digits) :\n",
        "      summ = summ + int(number[i]) ** digits\n",
        "    \n",
        "    if summ == int(number) :\n",
        "      print(number, \"is an Armstrong Number\")\n",
        "      break\n",
        "\n",
        "    else :\n",
        "      print(number, \"is not an Armstrong Number\")\n",
        "      break"
      ],
      "metadata": {
        "id": "cnIg6szWUdaP"
      },
      "execution_count": null,
      "outputs": []
    }
  ]
}