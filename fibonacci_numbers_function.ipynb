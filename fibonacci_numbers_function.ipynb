{
  "nbformat": 4,
  "nbformat_minor": 0,
  "metadata": {
    "colab": {
      "name": "Untitled34.ipynb",
      "provenance": [],
      "collapsed_sections": [],
      "authorship_tag": "ABX9TyNAz82kQPSSCkwrr077D67Z",
      "include_colab_link": true
    },
    "kernelspec": {
      "name": "python3",
      "display_name": "Python 3"
    },
    "language_info": {
      "name": "python"
    }
  },
  "cells": [
    {
      "cell_type": "markdown",
      "metadata": {
        "id": "view-in-github",
        "colab_type": "text"
      },
      "source": [
        "<a href=\"https://colab.research.google.com/github/D1422-Mustafa/Python-Basic-Assignments/blob/main/fibonacci_numbers_function.ipynb\" target=\"_parent\"><img src=\"https://colab.research.google.com/assets/colab-badge.svg\" alt=\"Open In Colab\"/></a>"
      ]
    },
    {
      "cell_type": "code",
      "execution_count": 19,
      "metadata": {
        "id": "zRGSBbZZMLs-"
      },
      "outputs": [],
      "source": [
        "def fibo(n):\n",
        "  if n < 0:\n",
        "    print(\"Please enter a positive number\")\n",
        "  elif n == 0 or n == 1:\n",
        "    return 1\n",
        "  else :\n",
        "    return fibo(n-1) + fibo(n-2) \n",
        "  \n",
        "\n",
        "\n",
        "\n"
      ]
    },
    {
      "cell_type": "code",
      "source": [
        "fibo(13)"
      ],
      "metadata": {
        "colab": {
          "base_uri": "https://localhost:8080/"
        },
        "id": "LkC52qxqU7kC",
        "outputId": "8f28e0c5-0177-47b2-ea1b-ea59303cbbbd"
      },
      "execution_count": 21,
      "outputs": [
        {
          "output_type": "execute_result",
          "data": {
            "text/plain": [
              "377"
            ]
          },
          "metadata": {},
          "execution_count": 21
        }
      ]
    }
  ]
}