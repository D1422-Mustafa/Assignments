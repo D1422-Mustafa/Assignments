{
  "nbformat": 4,
  "nbformat_minor": 0,
  "metadata": {
    "colab": {
      "name": "covid_risk_if.ipynb",
      "provenance": [],
      "collapsed_sections": [],
      "authorship_tag": "ABX9TyOjJdH5eeGAMViifXsNr81P",
      "include_colab_link": true
    },
    "kernelspec": {
      "name": "python3",
      "display_name": "Python 3"
    },
    "language_info": {
      "name": "python"
    }
  },
  "cells": [
    {
      "cell_type": "markdown",
      "metadata": {
        "id": "view-in-github",
        "colab_type": "text"
      },
      "source": [
        "<a href=\"https://colab.research.google.com/github/D1422-Mustafa/Assignments/blob/main/covid_risk_if.ipynb\" target=\"_parent\"><img src=\"https://colab.research.google.com/assets/colab-badge.svg\" alt=\"Open In Colab\"/></a>"
      ]
    },
    {
      "cell_type": "code",
      "metadata": {
        "colab": {
          "base_uri": "https://localhost:8080/"
        },
        "id": "1hFnNYJGy5DR",
        "outputId": "296681f9-f8cb-449d-a8bb-2d43af86b404"
      },
      "source": [
        "# Estimating the risk of death from coronavirus. \n",
        "\n",
        "age = input(\"Are you older than 75 years old? yes or no :\").lower().strip()\n",
        "\n",
        "if age == \"yes\" :\n",
        "  cigarette = input(\"Are you smoke cigarette? yes or no :\").lower().strip()\n",
        "  if cigarette == \"yes\" :\n",
        "    chronic = input(\"Do you have a severe chronic disease? yes or no :\").lower().strip()\n",
        "    if chronic == \"yes\" :\n",
        "      immune = input(\"Is your immune system too weak? yes or no :\").lower().strip()\n",
        "      if immune == \"yes\" :\n",
        "        print(\"You are in risky group\")\n",
        "      else :\n",
        "        print(\"You are not in risky group\")\n",
        "    else:\n",
        "      print(\"You are not in risky group\")\n",
        "  else:\n",
        "    print(\"You are not in risky group\")   \n",
        "else:\n",
        "  print(\"You are not in risky group\")\n",
        "\n",
        " "
      ],
      "execution_count": null,
      "outputs": [
        {
          "output_type": "stream",
          "name": "stdout",
          "text": [
            "Are you older than 75 years old? yes or no : yes\n",
            "Are you smoke cigarette? yes or no :yes\n",
            "Do you have a severe chronic disease? yes or no : NO\n",
            "You are not in risky group\n"
          ]
        }
      ]
    }
  ]
}