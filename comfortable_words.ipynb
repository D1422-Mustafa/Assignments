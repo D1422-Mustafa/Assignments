{
  "nbformat": 4,
  "nbformat_minor": 0,
  "metadata": {
    "colab": {
      "name": "comfortable words.ipynb",
      "provenance": [],
      "authorship_tag": "ABX9TyNWuaBTE+pT5u/BKYRHMNqy",
      "include_colab_link": true
    },
    "kernelspec": {
      "name": "python3",
      "display_name": "Python 3"
    },
    "language_info": {
      "name": "python"
    }
  },
  "cells": [
    {
      "cell_type": "markdown",
      "metadata": {
        "id": "view-in-github",
        "colab_type": "text"
      },
      "source": [
        "<a href=\"https://colab.research.google.com/github/D1422-Mustafa/Assignments/blob/main/comfortable_words.ipynb\" target=\"_parent\"><img src=\"https://colab.research.google.com/assets/colab-badge.svg\" alt=\"Open In Colab\"/></a>"
      ]
    },
    {
      "cell_type": "markdown",
      "source": [
        "Task : Find out if the given word is \"comfortable words\" in relation to the ten-finger keyboard use.\n",
        "\n",
        "A comfortable word is a word which you can type always alternating the hand you type with (assuming you type using a Q-keyboard and use of the ten-fingers standard).\n",
        "The word will always be a string consisting of only letters from a to z.\n",
        "Write a program which returns True if it's a comfortable word or False otherwise."
      ],
      "metadata": {
        "id": "Ohp18pSk0dQf"
      }
    },
    {
      "cell_type": "code",
      "execution_count": 1,
      "metadata": {
        "colab": {
          "base_uri": "https://localhost:8080/"
        },
        "id": "LggGWWaM0RJw",
        "outputId": "416d4cac-cb0e-4d7a-c6d3-0bc60ca02740"
      },
      "outputs": [
        {
          "name": "stdout",
          "output_type": "stream",
          "text": [
            "bir kelime giriniz :data science\n"
          ]
        },
        {
          "output_type": "execute_result",
          "data": {
            "text/plain": [
              "True"
            ]
          },
          "metadata": {},
          "execution_count": 1
        }
      ],
      "source": [
        "word = input(\"bir kelime giriniz :\")\n",
        "word = set(word)\n",
        "left = set(\"qwertasdfgzxcvb\")\n",
        "right = set(\"yuiophjklmn\")\n",
        "rightcheck = bool(word.intersection(right))\n",
        "leftcheck = bool(word.intersection(left))\n",
        "sonuc = leftcheck and rightcheck\n",
        "sonuc"
      ]
    }
  ]
}