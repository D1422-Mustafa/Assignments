{
  "nbformat": 4,
  "nbformat_minor": 0,
  "metadata": {
    "colab": {
      "name": "Build a Calculator using dict with lambda Expression.ipynb",
      "provenance": [],
      "collapsed_sections": [],
      "authorship_tag": "ABX9TyP7rwnBvoaGQfxoSb6dfadu",
      "include_colab_link": true
    },
    "kernelspec": {
      "name": "python3",
      "display_name": "Python 3"
    },
    "language_info": {
      "name": "python"
    }
  },
  "cells": [
    {
      "cell_type": "markdown",
      "metadata": {
        "id": "view-in-github",
        "colab_type": "text"
      },
      "source": [
        "<a href=\"https://colab.research.google.com/github/D1422-Mustafa/Assignments/blob/main/Build_a_Calculator_using_dict_with_lambda_Expression.ipynb\" target=\"_parent\"><img src=\"https://colab.research.google.com/assets/colab-badge.svg\" alt=\"Open In Colab\"/></a>"
      ]
    },
    {
      "cell_type": "code",
      "execution_count": null,
      "metadata": {
        "id": "9zoUhMH8DHoD"
      },
      "outputs": [],
      "source": [
        "calculator = {\"+\" : (lambda x, y : x + y),\n",
        "              \"-\" : (lambda x, y : x - y),\n",
        "              \"*\" : (lambda x, y : x * y),\n",
        "              \"/\" : (lambda x, y : x / y)\n",
        "              }"
      ]
    }
  ]
}