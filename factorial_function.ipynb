{
  "nbformat": 4,
  "nbformat_minor": 0,
  "metadata": {
    "colab": {
      "name": "factorial function.ipynb",
      "provenance": [],
      "authorship_tag": "ABX9TyPUiOvfcRpDiRjwulzfKx8h",
      "include_colab_link": true
    },
    "kernelspec": {
      "name": "python3",
      "display_name": "Python 3"
    },
    "language_info": {
      "name": "python"
    }
  },
  "cells": [
    {
      "cell_type": "markdown",
      "metadata": {
        "id": "view-in-github",
        "colab_type": "text"
      },
      "source": [
        "<a href=\"https://colab.research.google.com/github/D1422-Mustafa/Assignments/blob/main/factorial_function.ipynb\" target=\"_parent\"><img src=\"https://colab.research.google.com/assets/colab-badge.svg\" alt=\"Open In Colab\"/></a>"
      ]
    },
    {
      "cell_type": "code",
      "execution_count": 1,
      "metadata": {
        "id": "YfGK7Chs0pe0"
      },
      "outputs": [],
      "source": [
        "def my_factorial(n) :\n",
        "  if n == 1 or n == 0 :\n",
        "    return 1\n",
        "  else :\n",
        "    return n * my_factorial(n-1)"
      ]
    }
  ]
}