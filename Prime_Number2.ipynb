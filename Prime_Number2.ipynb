{
  "nbformat": 4,
  "nbformat_minor": 0,
  "metadata": {
    "colab": {
      "name": "Prime Number2.ipynb",
      "provenance": [],
      "collapsed_sections": [],
      "authorship_tag": "ABX9TyPmtcxSFPXv1PwwdVq643De",
      "include_colab_link": true
    },
    "kernelspec": {
      "name": "python3",
      "display_name": "Python 3"
    },
    "language_info": {
      "name": "python"
    }
  },
  "cells": [
    {
      "cell_type": "markdown",
      "metadata": {
        "id": "view-in-github",
        "colab_type": "text"
      },
      "source": [
        "<a href=\"https://colab.research.google.com/github/D1422-Mustafa/Assignments/blob/main/Prime_Number2.ipynb\" target=\"_parent\"><img src=\"https://colab.research.google.com/assets/colab-badge.svg\" alt=\"Open In Colab\"/></a>"
      ]
    },
    {
      "cell_type": "code",
      "execution_count": null,
      "metadata": {
        "id": "OqMJnamedYRO"
      },
      "outputs": [],
      "source": [
        "n = int(input(\"Enter a positive number to check if it is a Prime Number : \"))\n",
        "counter = 0\n",
        "for i in range(1, n+1) :\n",
        "  if n % i == 0 :\n",
        "    counter += 1\n",
        "\n",
        "if (n == 0) or (n == 1) or (counter >= 3) :\n",
        "  print(n, \"is not a Prime Number\")\n",
        "else :\n",
        "  print(n, \"is a Prime Number\")"
      ]
    }
  ]
}