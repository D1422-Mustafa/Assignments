{
  "nbformat": 4,
  "nbformat_minor": 0,
  "metadata": {
    "colab": {
      "name": "Fibonacci.ipynb",
      "provenance": [],
      "authorship_tag": "ABX9TyOZWRaErqNwE42k3EKeKdw3",
      "include_colab_link": true
    },
    "kernelspec": {
      "name": "python3",
      "display_name": "Python 3"
    },
    "language_info": {
      "name": "python"
    }
  },
  "cells": [
    {
      "cell_type": "markdown",
      "metadata": {
        "id": "view-in-github",
        "colab_type": "text"
      },
      "source": [
        "<a href=\"https://colab.research.google.com/github/D1422-Mustafa/Assignments/blob/main/Fibonacci.ipynb\" target=\"_parent\"><img src=\"https://colab.research.google.com/assets/colab-badge.svg\" alt=\"Open In Colab\"/></a>"
      ]
    },
    {
      "cell_type": "markdown",
      "source": [
        "Task : Create a list consisting of Fibonacci numbers from 1 to 55 using control flow statements."
      ],
      "metadata": {
        "id": "TkezFWJ_-UR8"
      }
    },
    {
      "cell_type": "markdown",
      "source": [
        "The desired output is like :\n",
        "\n",
        "fibonacci →  [1, 1, 2, 3, 5, 8, 13, 21, 34, 55]"
      ],
      "metadata": {
        "id": "-0bLGRr--c5x"
      }
    },
    {
      "cell_type": "code",
      "execution_count": 19,
      "metadata": {
        "colab": {
          "base_uri": "https://localhost:8080/"
        },
        "id": "WIkQ7ClJ3BLX",
        "outputId": "e7dd3a2a-1007-4036-d007-8cf4e38db80d"
      },
      "outputs": [
        {
          "output_type": "stream",
          "name": "stdout",
          "text": [
            "[1, 1, 2, 3, 5, 8, 13, 21, 34, 55]\n"
          ]
        }
      ],
      "source": [
        "fib_list = []\n",
        "not_fib_list = []\n",
        "for i in range(56) :\n",
        "  if i == 0 :\n",
        "    fib_list.append(i+1)\n",
        "  elif i == 1:\n",
        "    fib_list.append(i)\n",
        "  elif i > 1 and i == fib_list[-1] + fib_list[-2] :\n",
        "    fib_list.append(i)\n",
        " \n",
        "print(fib_list)\n",
        "\n",
        "\n",
        "\n",
        "    \n",
        "    \n",
        "\n",
        "\n",
        "\n"
      ]
    }
  ]
}