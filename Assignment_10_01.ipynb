{
  "nbformat": 4,
  "nbformat_minor": 0,
  "metadata": {
    "colab": {
      "name": "Assignment 10/01.ipynb",
      "provenance": [],
      "collapsed_sections": [],
      "authorship_tag": "ABX9TyNkm0+buA63AEUhbQQBglKV",
      "include_colab_link": true
    },
    "kernelspec": {
      "name": "python3",
      "display_name": "Python 3"
    },
    "language_info": {
      "name": "python"
    }
  },
  "cells": [
    {
      "cell_type": "markdown",
      "metadata": {
        "id": "view-in-github",
        "colab_type": "text"
      },
      "source": [
        "<a href=\"https://colab.research.google.com/github/D1422-Mustafa/Assignments/blob/main/Assignment_10_01.ipynb\" target=\"_parent\"><img src=\"https://colab.research.google.com/assets/colab-badge.svg\" alt=\"Open In Colab\"/></a>"
      ]
    },
    {
      "cell_type": "code",
      "metadata": {
        "colab": {
          "base_uri": "https://localhost:8080/"
        },
        "id": "Bwz1OxrZiMjR",
        "outputId": "da0e869d-5862-4137-d0bf-dfd5a80fcf6c"
      },
      "source": [
        "password = \"W@12\"\n",
        "name = \"joseph\"\n",
        "key = input(\"please enter your name :\").lower()\n",
        "if key == name :\n",
        "  print(\"Hello, Joseph! The password is :\", password)\n",
        "else :\n",
        "  print(\"Hello, Amina! See you later.\")"
      ],
      "execution_count": null,
      "outputs": [
        {
          "output_type": "stream",
          "name": "stdout",
          "text": [
            "please enter your name :jOSEPH\n",
            "Hello, Joseph! The password is : W@12\n"
          ]
        }
      ]
    }
  ]
}