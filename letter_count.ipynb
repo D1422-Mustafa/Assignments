{
  "nbformat": 4,
  "nbformat_minor": 0,
  "metadata": {
    "colab": {
      "name": "letter_count.ipynb",
      "provenance": [],
      "collapsed_sections": [],
      "authorship_tag": "ABX9TyP5YZwqoAjIPP/7Gp7IEG2a",
      "include_colab_link": true
    },
    "kernelspec": {
      "name": "python3",
      "display_name": "Python 3"
    },
    "language_info": {
      "name": "python"
    }
  },
  "cells": [
    {
      "cell_type": "markdown",
      "metadata": {
        "id": "view-in-github",
        "colab_type": "text"
      },
      "source": [
        "<a href=\"https://colab.research.google.com/github/D1422-Mustafa/Assignments/blob/main/letter_count.ipynb\" target=\"_parent\"><img src=\"https://colab.research.google.com/assets/colab-badge.svg\" alt=\"Open In Colab\"/></a>"
      ]
    },
    {
      "cell_type": "code",
      "execution_count": null,
      "metadata": {
        "id": "pf2kWWgPPTzE"
      },
      "outputs": [],
      "source": [
        "for n in string :\n",
        "\n",
        "  if n in word_dict :\n",
        "    word_dict[n] += 1\n",
        "  else :\n",
        "    word_dict[n] =1\n",
        "\n",
        "print(word_dict)"
      ]
    }
  ]
}