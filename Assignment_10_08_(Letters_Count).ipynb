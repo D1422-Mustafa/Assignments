{
  "nbformat": 4,
  "nbformat_minor": 0,
  "metadata": {
    "colab": {
      "name": "Assignment - 10/08 (Letters Count).ipynb",
      "provenance": [],
      "authorship_tag": "ABX9TyMIrlM3pUiItab5fZd1/KQp",
      "include_colab_link": true
    },
    "kernelspec": {
      "name": "python3",
      "display_name": "Python 3"
    },
    "language_info": {
      "name": "python"
    }
  },
  "cells": [
    {
      "cell_type": "markdown",
      "metadata": {
        "id": "view-in-github",
        "colab_type": "text"
      },
      "source": [
        "<a href=\"https://colab.research.google.com/github/D1422-Mustafa/Assignments/blob/main/Assignment_10_08_(Letters_Count).ipynb\" target=\"_parent\"><img src=\"https://colab.research.google.com/assets/colab-badge.svg\" alt=\"Open In Colab\"/></a>"
      ]
    },
    {
      "cell_type": "code",
      "execution_count": null,
      "metadata": {
        "id": "4RdY18ZzhZOo"
      },
      "outputs": [],
      "source": [
        ""
      ]
    },
    {
      "cell_type": "code",
      "source": [
        "string = \"hippo runs to us!\"\n",
        "word_dict = {}\n",
        "for n in string :\n",
        "  if n in word_dict :\n",
        "    word_dict[n] += 1\n",
        "  else :\n",
        "    word_dict[n] = 1\n",
        "print(word_dict)"
      ],
      "metadata": {
        "id": "yFKkkQDEeIUr",
        "colab": {
          "base_uri": "https://localhost:8080/"
        },
        "outputId": "e1fabc0a-fba4-4b84-8105-7206e8dfb6a0"
      },
      "execution_count": 1,
      "outputs": [
        {
          "output_type": "stream",
          "name": "stdout",
          "text": [
            "{'h': 1, 'i': 1, 'p': 2, 'o': 2, ' ': 3, 'r': 1, 'u': 2, 'n': 1, 's': 2, 't': 1, '!': 1}\n"
          ]
        }
      ]
    }
  ]
}